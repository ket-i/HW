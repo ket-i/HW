{
 "cells": [
  {
   "cell_type": "code",
   "execution_count": null,
   "metadata": {},
   "outputs": [],
   "source": [
    "%load_ext autoreload\n",
    "%autoreload 2\n",
    "\n",
    "%matplotlib inline"
   ]
  },
  {
   "cell_type": "markdown",
   "metadata": {},
   "source": [
    "## Basic setup"
   ]
  },
  {
   "cell_type": "markdown",
   "metadata": {},
   "source": [
    "Create anaconda environment\n",
    "<br>\n",
    "```bash\n",
    "conda create -n ml python=3.7.4 jupyter\n",
    "```\n",
    "Install fastai library\n",
    "<br>\n",
    "```bash\n",
    "conda install -c pytorch -c fastai fastai\n",
    "```"
   ]
  },
  {
   "cell_type": "markdown",
   "metadata": {},
   "source": [
    "# Set theory basics"
   ]
  },
  {
   "cell_type": "markdown",
   "metadata": {},
   "source": [
    "#### Prove that:\n",
    "<br>\n",
    "If $A \\subseteq B$ and $B \\subseteq A$ $\\to$ $A = B$\n",
    "\n",
    "#### Proof\n",
    "$ if \\forall x \\in A $as given$ x \\in B \\implies A=B $"
   ]
  },
  {
   "cell_type": "markdown",
   "metadata": {},
   "source": [
    "#### Prove that:\n",
    "<br>\n",
    "$A \\cap B = B \\cap A$\n",
    "\n",
    "#### Proof:\n",
    "- $\\forall x\\in (A \\cap B) \\implies x \\in A$  and  $x \\in B \\implies x\\in (B \\cap A) $\n",
    "- $\\forall x\\in (B \\cap A) \\implies x \\in A$ and $x \\in B \\implies x\\in (A \\cap B)$\n"
   ]
  },
  {
   "cell_type": "markdown",
   "metadata": {},
   "source": [
    "#### Prove that:\n",
    "<br>\n",
    "if $B \\subset A$ then $A \\cap B = B$\n",
    "\n",
    "\n",
    "#### Proof:\n",
    "- $\\forall x$ $\\in B \\implies x\\in A \\implies x\\in (A \\cap B) \\implies A\\cap B \\subset B $\n",
    "- $\\forall x \\in (A \\cap B) \\implies x\\in B \\implies  B \\subset  A\\cap B $ \n",
    "\n"
   ]
  },
  {
   "cell_type": "markdown",
   "metadata": {},
   "source": [
    "#### Prove that:\n",
    "<br>\n",
    "$A \\cup B = B \\cup A$\n",
    "\n",
    "#### Proof:\n",
    "- $\\forall x\\in (A \\cup B) \\implies x \\in A$  or  $x \\in B \\implies x\\in (B \\cup A)$\n",
    "- $\\forall x\\in (B \\cup A) \\implies x \\in A$ or $x \\in B \\implies x\\in (A \\cup B)$"
   ]
  },
  {
   "cell_type": "markdown",
   "metadata": {},
   "source": [
    "#### Prove that:\n",
    "- for every injection $m:A \\to B$ and pair of functions $f, g :C \\to A$: if $m \\circ f = m \\circ g$ then $f = g$ and vice-versa\n",
    "- for every surjection $e:A \\to B$ and every pair of functions $f, g :B \\to C$: if $f \\circ e = g \\circ e$ then $f = g$ and vice-versa\n",
    "\n",
    "#### Proof:\n",
    "- if $m \\circ f = m \\circ g$ and $ m(f(C))=m(g(C))$ by definition of injection $f=g$\n",
    "- if  $f \\circ e = g \\circ e$ and $e$ is surjective by defition $f=g$\n"
   ]
  },
  {
   "cell_type": "markdown",
   "metadata": {},
   "source": [
    "#### Prove that \n",
    "- composition of injections is injection itself\n",
    "- composition of surjections is surjection itself\n",
    "- composition of bijections is bijection itself\n",
    "<br>\n",
    "or give a counterexamples"
   ]
  },
  {
   "cell_type": "markdown",
   "metadata": {},
   "source": [
    "#### Proof\n",
    "- f:S1 $\\mapsto$ S2, g:S2 $\\mapsto$ S3. Let f and g be injective type functions. Also, let x1, x2 $ \\in $ S1 and x1 $\\neq$ x2. By definition of injectivity f(x1) $ \\neq $ f(x2). Let f(x1)=y1 and f(x2)=y2 $ \\implies $ y1,y2 $ \\in $ S2 and y1 $ \\neq$ y2, by definition of injectivity g(y1) $ \\neq $ g(y2) \n",
    "- f:A $\\mapsto$ B, g:B $\\mapsto$ C are both surjective functions, then g $\\circ$ f is surjection? Let c be element in C, since g is surjection there $\\exists$ b $\\in$ B such that g(b)=c. Since f is surjective $\\exists$ a $\\in$ A, such that f(a)=b, so g $\\circ$ f (a)=g(f(a))=c \n",
    "- $ f: S_1 \\to S_2 , g: S_2 \\to S_3 $ is bijection functions  show that $g \\circ f$ is bijection 1) show that $g\\circ f $ is injection 2) $g \\circ f $ is surjecction. $f$ and $g$ is bijection by definiton this function is also injection let $\\forall x_1 , x_2 \\in S_1$ and $x_1\\neq x_2 \\implies f(x_1)\\neq f(x_2) $ and $f(x_1), f(x_2) \\in S_2 \\implies g(f(x_1))\\neq g(f(x_2)) \\implies g \\circ f$ injection. by definition $f$ and $g$ is surjection functions. let $z$be any element in $S_3$ since $g:S_2\\to S_3$ is surjection $\\exists  y_1 \\in S_2 $ such that $g(y_1)=z$, since $f:S_1  \\to S_2$ is surjective such that $\\exists x_1\\in S_1$ such that $ f(x_1)=y_1 \\implies g(f(x_1))=g(y_1)=z \\implies g\\circ f$ is surjctive $\\implies g\\circ f$ is bijective "
   ]
  },
  {
   "cell_type": "markdown",
   "metadata": {},
   "source": [
    "#### Prove that for each set $A$:\n",
    "- $A \\cong A$\n",
    "- if $B \\cong A$ then $B \\cong A$ for every pair of sets $A$ and $B$\n",
    "- if $A \\cong B$ and $B \\cong C$ then $A \\cong C$ for every triplet $A$, $B$ and $C$"
   ]
  },
  {
   "cell_type": "markdown",
   "metadata": {},
   "source": [
    "#### Proof\n",
    "- $ x \\in A$ x=x $\\implies A \\cong A $\n",
    "- If each element of B coresponds to each element of A $\\implies$ we have bijection from B to A\n",
    "- If there exists bijection between A B C, we have transitivity $\\implies$ $A \\cong B$ and $B \\cong C$ then $A \\cong C$ for every triplet $A$, $B$ and $C$"
   ]
  },
  {
   "cell_type": "markdown",
   "metadata": {},
   "source": [
    "#### Prove that:\n",
    "<br>\n",
    "there exists a bijection between set of natural and even numbers"
   ]
  },
  {
   "cell_type": "markdown",
   "metadata": {},
   "source": [
    "#### Proof\n",
    "- $ F:N \\mapsto 2*N $ Let n1 and n2 be natural numbers such that n1 $\\neq$ n2 $\\implies F(n1) \\neq F(n2) \\implies $ F is injection\n",
    "- $ n \\in N, F(n)=V \\implies$ V=2n and n=V/2, thus it is surjection  \n",
    "- Thus we have bijection "
   ]
  },
  {
   "cell_type": "markdown",
   "metadata": {},
   "source": [
    "#### Prove that:\n",
    "<br>\n",
    "if we have a bijection between two finite sets than they have an equal number of elements"
   ]
  },
  {
   "cell_type": "markdown",
   "metadata": {},
   "source": [
    "#### Proof\n",
    "- Because bijection is one to one than if one set is greater than other there will be at least one element that is not matched."
   ]
  },
  {
   "cell_type": "markdown",
   "metadata": {},
   "source": [
    "#### Prove that:\n",
    "<br>\n",
    "$A \\times B \\cong B \\times A$"
   ]
  },
  {
   "cell_type": "markdown",
   "metadata": {},
   "source": [
    "$\\cap_{i\\in I}A_i$ and $\\cup_{i\\in I}A_i$"
   ]
  },
  {
   "cell_type": "code",
   "execution_count": null,
   "metadata": {},
   "outputs": [],
   "source": [
    "# Inplement in python"
   ]
  },
  {
   "cell_type": "markdown",
   "metadata": {},
   "source": [
    "We can also define cartesian product of any \"number\" of sets $\\prod_{i \\in I}{A_i}$"
   ]
  },
  {
   "cell_type": "code",
   "execution_count": null,
   "metadata": {},
   "outputs": [],
   "source": [
    "# Inplement in python"
   ]
  },
  {
   "cell_type": "markdown",
   "metadata": {},
   "source": [
    "#### Prove that:\n",
    "<br>\n",
    "$$A \\cap (B \\cup C)=(A \\cap B) \\cup (A\\cap C)$$\n",
    "$$A \\cup (B \\cap C)=(A \\cup B) \\cap (A\\cup C)$$"
   ]
  },
  {
   "cell_type": "markdown",
   "metadata": {},
   "source": [
    "#### proof\n",
    "\n",
    "- $ x \\in A \\cap (B \\cup C) \\implies x \\in A $and x$ \\in B \\cup C  \\implies x \\in A and (x \\in B or x \\in C) \\implies (x\\in A and x \\in B) or (x\\in A and x \\in C) \\implies x \\in (A \\cap B) or x \\in (A \\cup C) \\implies x \\in (A \\cap B) \\cup (A\\cap C) $ \n",
    "- $ x /in (A \\cap B) \\cup (A\\cap C) \\implies x \\in (A \\cap B) or x \\in (A \\cup C) \\implies (x\\in A and x \\in B) or (x\\in A and x \\in C) \\implies x \\in A and (x \\in B or x \\in C) \\implies x \\in A $ and x $ \\in (B \\cup C )\\implies x \\in A \\cap (B \\cup C)  $\n",
    "- $ x\\in A \\cup (B \\cap C)=(A \\cup B) \\cap (A\\cup C)\\implies x\\in A$ or $x\\in (B\\cap C)\\implies x\\in A $ or ($x\\in B$ and $x\\in C$)$ \\implies (x\\in A$ or $x\\in B)$ and ($x\\in A$ or $x\\in C$) $\\implies x\\in (A \\cup B) \\cap (A\\cup C)$\n",
    "- $x\\in (A \\cup B) \\cap (A\\cup C) \\implies  (x\\in A$ or $x\\in B)$ and ($x\\in A$ or $x\\in C$) $\\implies x\\in A $ or ($x\\in B$ and $x\\in C$) $\\implies  x\\in A$ or $x\\in (B\\cap C)$ $\\implies x\\in A \\cup (B \\cap C)$"
   ]
  },
  {
   "cell_type": "markdown",
   "metadata": {},
   "source": [
    "# Linear Algebra"
   ]
  },
  {
   "cell_type": "markdown",
   "metadata": {},
   "source": [
    "#### Prove that:\n",
    "<br>\n",
    "$(AB)^{T} = B^{T}A^{T}$ for each pair of matrices $A, B \\in \\mathbb{R}^{n \\times m}$\n",
    "\n",
    "#### Proof\n",
    "- $ A^{b*a}*B^{a*c}=(A*B)^{b*c} \\implies (A*B)^{T}=C^{c*b}$\n",
    "- $ A^{T}=D^{a*b} $and$ B^{T}=Z^{c*a} \\implies Z*D=K^{c*b} $"
   ]
  },
  {
   "cell_type": "markdown",
   "metadata": {},
   "source": [
    "## Functions on tensors"
   ]
  },
  {
   "cell_type": "markdown",
   "metadata": {},
   "source": [
    "#### Write combination for $XOR$ calculation"
   ]
  },
  {
   "cell_type": "code",
   "execution_count": null,
   "metadata": {},
   "outputs": [],
   "source": []
  }
 ],
 "metadata": {
  "kernelspec": {
   "display_name": "Python 3",
   "language": "python",
   "name": "python3"
  },
  "language_info": {
   "codemirror_mode": {
    "name": "ipython",
    "version": 3
   },
   "file_extension": ".py",
   "mimetype": "text/x-python",
   "name": "python",
   "nbconvert_exporter": "python",
   "pygments_lexer": "ipython3",
   "version": "3.7.4"
  }
 },
 "nbformat": 4,
 "nbformat_minor": 4
}

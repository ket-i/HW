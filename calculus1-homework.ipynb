{
 "cells": [
  {
   "cell_type": "code",
   "execution_count": 2,
   "metadata": {},
   "outputs": [],
   "source": [
    "%load_ext autoreload\n",
    "%autoreload 2\n",
    "\n",
    "%matplotlib inline"
   ]
  },
  {
   "cell_type": "markdown",
   "metadata": {},
   "source": [
    "## Basic setup"
   ]
  },
  {
   "cell_type": "markdown",
   "metadata": {},
   "source": [
    "Create anaconda environment\n",
    "<br>\n",
    "```bash\n",
    "conda create -n ml python=3.7.4 jupyter\n",
    "```\n",
    "Install fastai library\n",
    "<br>\n",
    "```bash\n",
    "conda install -c pytorch -c fastai fastai\n",
    "```"
   ]
  },
  {
   "cell_type": "code",
   "execution_count": null,
   "metadata": {},
   "outputs": [],
   "source": [
    "!pip install https://github.com/ipython-contrib/jupyter_contrib_nbextensions/tarball/master\n",
    "!pip install jupyter_nbextensions_configurator\n",
    "!jupyter contrib nbextension install --user\n",
    "!jupyter nbextensions_configurator enable --user"
   ]
  },
  {
   "cell_type": "markdown",
   "metadata": {},
   "source": [
    "# Metric spaces"
   ]
  },
  {
   "cell_type": "markdown",
   "metadata": {},
   "source": [
    "#### Prove that:\n",
    "For every metric space (X, d):\n",
    "- For eny $\\mathcal{U} = \\{U | U$ is open in $(X, d)\\}$ holds $\\bigcup_{U \\in \\mathcal{U}} U$ is open in $(X, d)$\n",
    "- For eny two $U, V \\subset X$ open in $(X, d)$ holds: $U \\cap V$ is open in $(X, d)$\n",
    "- $X$ is open in $(X, d)$\n",
    "- $\\emptyset$ is open in $(X, d)$\n",
    "\n",
    "#### Proof \n",
    "- Let take $ \\forall x  \\in \\bigcup_{U \\in \\mathcal{U}} U$ and $ \\exists U^{0} \\in \\bigcup_{U \\in \\mathcal{U}}$, such that $x \\in U^{0}$. Since U^{0} is open set $\\implies \\exists (x- \\epsilon, x+ \\epsilon) \\in U^{0} \\in \\bigcup_{U \\in \\mathcal{U}} U $\n",
    "\n",
    "- Let $ \\forall x \\in U \\cap V \\implies x \\in U and x \\in V \\implies (x- \\epsilon, x+ \\epsilon) \\subset V and (x- \\epsilon, x+ \\epsilon) \\subset U \\implies (x- \\epsilon, x+ \\epsilon) \\subset U \\cap V  $\n",
    "\n",
    "- X is open because any ball by definition is subset of X in $(X, d)$\n",
    "\n",
    "- $\\emptyset$ is open because it satisfies definition of open set, there are no x $ \\in \\emptyset$"
   ]
  },
  {
   "cell_type": "markdown",
   "metadata": {},
   "source": [
    "#### Prove that, closed ball is closed subset in $(X, d)$\n",
    "#### proof \n",
    "- Suppoose $B (x,r)$is cloced ball. WE want to show that $ X B(x,r)$is open. it means that $\\forall y \\in B(x,r)(*)$ we need to finda ball which is subset if $ X B(x,r)$ where  $ y$ is tjecenter $(*)$ $ \\implies d(y,x)>r \\implies d(y,x)-r>0 $. let $ r^1= d(y,x)-r $ and we need to prove that $B^1(y,r^1)$ is subset of $X B(x,r)$ let $ c \\in B^1(y,r): d(x,y)\\leq d(x,c) +d(c,y) \\implies d(x,c) \\geq d(x,y)- d(c,y)> d(x,y)-r^1=r$ thus $c \\in b(x,r)$\n",
    "\n",
    "\n"
   ]
  },
  {
   "cell_type": "markdown",
   "metadata": {},
   "source": [
    "#### Prove that\n",
    "For every metric space (X, d):\n",
    "- For eny $\\mathcal{F} = \\{F | F$ is closed in $(X, d)\\}$ holds $\\bigcap_{F \\in \\mathcal{F}} F$ is closed in $(X, d)$\n",
    "- For eny two $F_1, F_2 \\subset X$ closed in $(X, d)$ holds: $F_1 \\cup F_2$ is closed in $(X, d)$\n",
    "- $X$ is closed in $(X, d)$\n",
    "- $\\emptyset$ is closed in $(X, d)$\n"
   ]
  },
  {
   "cell_type": "markdown",
   "metadata": {},
   "source": [
    "#### Solution\n",
    "- Using the definition of closed set and the De-Morgan's laws, we can write: $(\\cap F)^{c}=\\cup F^{c}$ . Each $F^{c}$ is an open set since $F$ is a closed set, therefore by the property of unions of open sets $\\cup F^{c}$ is open, so its complement $\\bigcap_{F \\in \\mathcal{F}}F$ is closed.\n",
    "- Consider the complement of $F_1 \\cup F_2$ which is $F_1^{c} \\cap F_2^{c}$. Since $F$ is a closed set, its complement is open. So, by the property of intersection of open sets, $F_1^{c} \\cap F_2^{c}$ is open, therefore, by the definition, $F_1 \\cup F_2$ \n",
    "is closed."
   ]
  },
  {
   "cell_type": "markdown",
   "metadata": {},
   "source": [
    "#### Prove that:\n",
    "- For eny finity set $(F)_{i=1}^{n}$ of closed sets in $(X, d)$, $\\bigcup_{i=1}^{n}F$ is closed in $(X, d)$\n",
    "\n",
    "#### Proof \n"
   ]
  },
  {
   "cell_type": "markdown",
   "metadata": {},
   "source": [
    "#### Prove that, if $F \\subset X$ is closed then $X - F$ is open in $(X, d)$ "
   ]
  },
  {
   "cell_type": "markdown",
   "metadata": {},
   "source": [
    "# Metrics in Euclidean spaces"
   ]
  },
  {
   "cell_type": "markdown",
   "metadata": {},
   "source": [
    "#### Prove that:\n",
    "- for every $u, v \\in \\mathbb{R}^{n}$: $d(u, v) \\geq 0$\n",
    "- for every $v \\in \\mathbb{R}^{n}$: $d(v, v) = 0$\n",
    "- for every $u, v \\in \\mathbb{R}^{n}$: $d(u, v) = d(v, u)$ (symmetry)\n",
    "- for every $u, v, w \\in \\mathbb{R}^{n}$: $d(u, w) \\leq d(v, u) + d(v, w)$ (triangle inequality)"
   ]
  },
  {
   "cell_type": "markdown",
   "metadata": {},
   "source": [
    "#### Prove the same properties hold for $d(u, v) = ||u-v||_1$ ($||u-v||_1 = \\sum_{i = 1}^{n}|u_i - v_i|$)"
   ]
  },
  {
   "cell_type": "markdown",
   "metadata": {},
   "source": [
    "#### Solution\n",
    "- This property is obviously true\n",
    "- $d(v, v) = \\sum_{i = 1}^{n}|v_i - v_i| = \\sum_{i = 1}^{n}0 = 0 $\n",
    "- $d(u, v) = \\sum_{i = 1}^{n}|u_i - v_i| = \\sum_{i = 1}^{n}|v_i - u_i| = d(v, u)$, since for any $i$  $|u_i - v_i| = |v_i - u_i|$\n",
    "- $d(u, w) = \\sum_{i = 1}^{n}|u_i - w_i| = \\sum_{i = 1}^{n}|u_i - v_i + (v_i - w_i)| \\leq \\sum_{i = 1}^{n}|u_i - v_i| + \\sum_{i = 1}^{n}|v_i - w_i| = d(u, v) + d(v, w)$"
   ]
  },
  {
   "cell_type": "code",
   "execution_count": null,
   "metadata": {},
   "outputs": [],
   "source": [
    "## Sequences and limits"
   ]
  },
  {
   "cell_type": "markdown",
   "metadata": {},
   "source": [
    "#### Prove that $x = \\lim_{n\\to\\infty}{x_n}$ in $(X, d)$ if and only if (iff) for every $r \\in \\mathbb{R}$ there exists $n_0 \\in \\mathbb{N}$ such that: $x_i \\in B(x, r)$ for every $i \\gt n_0$"
   ]
  },
  {
   "cell_type": "markdown",
   "metadata": {},
   "source": [
    "#### Prove that if $x = \\lim_{n\\to\\infty}{x_n}$ and $x \\notin \\{-\\infty, \\infty\\}$ then $(x_i)_{i=1}^{\\infty} = (x_1, x_2, \\dots, x_n)$ is a Cauchy sequence\n",
    "<br>\n",
    "For closed set $F \\subset \\mathbb{R}^n$ and convergent sequence $(x_i)_{i=1}^{\\infty} = (x_1, x_2, \\dots, x_n)$ such that there exists $n_0 \\in \\mathbb{N}$ such that $x_i \\in F$ for each $i \\gt n_0$ then: $\\lim_{n\\to\\infty}{x_n} \\in F$"
   ]
  },
  {
   "cell_type": "markdown",
   "metadata": {},
   "source": [
    "#### Solution\n",
    "since ${x_n}$ is a convergent sequence, for any ϵ > 0 there exists $N_0$ such that $|{x_n}-x|<ϵ/2$ for any n > $N_0$. Similarly, for any ϵ > 0 there exists $M_0$ such that $|{x_m}-x|<ϵ/2$ for any m > $N_0$. Take $N = max(M_0, N_0)$ then for any ϵ > 0 and for n,m > $N$, $|{x_m}-{x_n}| \\leq |{x_m}-{x}| + |{x_n}-{x}| \\leq ϵ/2 + ϵ/2 = ϵ$"
   ]
  },
  {
   "cell_type": "markdown",
   "metadata": {},
   "source": [
    "#### Prove that if $F$ is open from previous example, statement does not hold. "
   ]
  },
  {
   "cell_type": "markdown",
   "metadata": {},
   "source": [
    "#### Solution\n",
    "Consider set $F=(0, 2)$ and take a sequence ${x_n} = 1/n$, every term of which belongs to this set. Obviusly, the limit of the sequence, $\\lim_{n\\to\\infty}{x_n}=0$ doesn't belong to this set. By this contradiction, we can conclude that if $F$ is open from previous example, statement does not hold"
   ]
  },
  {
   "cell_type": "markdown",
   "metadata": {},
   "source": [
    "#### Prove that inherited metric is a metric"
   ]
  },
  {
   "cell_type": "markdown",
   "metadata": {},
   "source": [
    "## Limits of functions"
   ]
  },
  {
   "cell_type": "markdown",
   "metadata": {},
   "source": [
    "Let $f:S \\to Y$ is function between subset $S \\subset X$ of a metric space $(X, d_x)$ and metric space $(Y, d_Y)$\n",
    "- We say that the limit of function $f:(S, d_x) \\to (Y, d_Y)$ between metric spaces in some limit point $c \\in X$ of the subset $S$ is $y \\in Y $if for each open neighborhood of $y \\in V \\subset Y$ there exists the open seighborhood of $c \\in U \\subset X$ such that $f(U \\cap S) \\subset V$\n",
    "<br>\n",
    "This definition is equiualent of definition:\n",
    "<br>\n",
    "- The limit of function $f:(S, d_X) \\to (Y, d_Y)$ between metric spaces in limit point $c \\in X$ of the subset $S$ is $y \\in Y $ if for each open ball $B(x, r) \\subset Y$ there exists the ball $B(c, l) \\subset X$ such that $f(B(c, l) \\cap S) \\subset B(y, r)$\n",
    "<br>\n",
    "or\n",
    "<br>\n",
    "- The limit of function $f:(S, d_X) \\to (Y, d_Y)$ between metric spaces in limit point $c \\in X$ of subset $S$ is $y \\in Y $ if for any $r \\in \\mathbb{R}$ there exists $l \\in \\mathbb{R}$ such that for every $x \\in S$ with $d_X(x, c) < l$ implies that $d_Y(f(x), y) < r$"
   ]
  },
  {
   "cell_type": "markdown",
   "metadata": {},
   "source": [
    "#### Prove that this three definitions are equiualent for eny function between eny two metric spaces"
   ]
  },
  {
   "cell_type": "markdown",
   "metadata": {},
   "source": [
    "## Continuous functions "
   ]
  },
  {
   "cell_type": "markdown",
   "metadata": {},
   "source": [
    "#### Prove that function is continuous in $c$ if for eny sequence $(x_n)_{n=1}^{\\infty} \\subset X$ such that $\\lim_{n \\to \\infty}x_n = c$ we have $\\lim_{n \\to \\infty}f(x_n) = f(c)$\n",
    "-$f:R \\to R$ is continious in $R$  if given $ \\epsilon $ there exist $ \\delta$ such that $ \\mid(x-c)\\mid \\implies \\mid(f(x)-F(c)\\mid< \\epsilon$ let show  this definition is equivalent to the given one let $\\lim_{x\\to \\infty}x_n=c $ so, $\\exists N_0$ we have : $\\mid (x_n-c)\\mid<\\delta$ and $\\implies \\mid (f(x_n)-f(c))\\mid<\\epsilon \\implies \\lim_{x\\to\\infty}f(x_n)=f(c)$ where $ n>N_0$\n"
   ]
  },
  {
   "cell_type": "markdown",
   "metadata": {},
   "source": [
    "#### Prove that function is continuous if for every open set $V \\subset Y$ the $f^{-1}(V)$ is open in $X$\n",
    "### proof\n",
    "- first of all if $f^{-1}=V $ then $f^{-1}$ is open from the above dafinition if $x\\in (c-\\delta, c+\\delta) \\implies f(x)\\in((f(c)-\\epsilon, f(c)+\\epsilon)\\implies f((c-\\delta, c+\\delta))\\subset (f(c)-\\epsilon, f(c)+\\epsilon)\\implies (c-\\delta,c+\\delta)\\subset(f^{-1}(f(c)-\\epsilon, f(c)+\\epsilon))$\n",
    "-"
   ]
  },
  {
   "cell_type": "markdown",
   "metadata": {},
   "source": [
    "#### Prove that function is continuous if for every closed set $F \\subset Y$ the $f^{-1}(F)$ is open in $X$"
   ]
  },
  {
   "cell_type": "markdown",
   "metadata": {},
   "source": [
    "#### Prove that any composition of continous functions is continous\n",
    "### proof\n",
    "-let $f:R\\to R $ and$g:R \\to R$ $f$ is continious at pint $c$ if $\\lim_{x\\to c}f(x)=f(c)$ where $c\\in R$ same for $g:Y \\to Z $ function : $\\lim_{y\\to c^{1}}g(y)=g(c^{1})$, where $c^{1} \\in R $ consder $f(x)=y$ then $\\lim_{x\\to c}g(f(x))=\\lim_{x\\to c^{1}}g(y)=g(c^{1})$"
   ]
  },
  {
   "cell_type": "code",
   "execution_count": null,
   "metadata": {},
   "outputs": [],
   "source": []
  },
  {
   "cell_type": "code",
   "execution_count": null,
   "metadata": {},
   "outputs": [],
   "source": []
  }
 ],
 "metadata": {
  "kernelspec": {
   "display_name": "Python 3",
   "language": "python",
   "name": "python3"
  },
  "language_info": {
   "codemirror_mode": {
    "name": "ipython",
    "version": 3
   },
   "file_extension": ".py",
   "mimetype": "text/x-python",
   "name": "python",
   "nbconvert_exporter": "python",
   "pygments_lexer": "ipython3",
   "version": "3.7.3"
  }
 },
 "nbformat": 4,
 "nbformat_minor": 4
}
